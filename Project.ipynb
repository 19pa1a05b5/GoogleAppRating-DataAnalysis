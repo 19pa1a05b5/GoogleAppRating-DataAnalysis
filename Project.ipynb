{
  "nbformat": 4,
  "nbformat_minor": 0,
  "metadata": {
    "colab": {
      "name": "Copy of Untitled7.ipynb",
      "provenance": [],
      "collapsed_sections": [],
      "include_colab_link": true
    },
    "kernelspec": {
      "name": "python3",
      "display_name": "Python 3"
    }
  },
  "cells": [
    {
      "cell_type": "markdown",
      "metadata": {
        "id": "view-in-github",
        "colab_type": "text"
      },
      "source": [
        "<a href=\"https://colab.research.google.com/github/19pa1a05b5/GoogleAppRating-DataAnalysis/blob/master/Project.ipynb\" target=\"_parent\"><img src=\"https://colab.research.google.com/assets/colab-badge.svg\" alt=\"Open In Colab\"/></a>"
      ]
    },
    {
      "cell_type": "code",
      "metadata": {
        "id": "dengwsJmlPnL",
        "colab_type": "code",
        "colab": {}
      },
      "source": [
        "import numpy as np\n",
        "import pandas as pd\n",
        "import matplotlib.pyplot as plt\n",
        "import seaborn as sns\n",
        "Films_Data = pd.read_csv(\"/content/movies.csv.zip\")\n",
        "fd = Films_Data"
      ],
      "execution_count": 0,
      "outputs": []
    },
    {
      "cell_type": "code",
      "metadata": {
        "id": "Jwu3kFuU0640",
        "colab_type": "code",
        "colab": {
          "base_uri": "https://localhost:8080/",
          "height": 272
        },
        "outputId": "f0367ab2-8396-41f4-ec6a-c8faeff355ad"
      },
      "source": [
        "#Inspecting first 5 rows\n",
        "fd.head()"
      ],
      "execution_count": 66,
      "outputs": [
        {
          "output_type": "execute_result",
          "data": {
            "text/html": [
              "<div>\n",
              "<style scoped>\n",
              "    .dataframe tbody tr th:only-of-type {\n",
              "        vertical-align: middle;\n",
              "    }\n",
              "\n",
              "    .dataframe tbody tr th {\n",
              "        vertical-align: top;\n",
              "    }\n",
              "\n",
              "    .dataframe thead th {\n",
              "        text-align: right;\n",
              "    }\n",
              "</style>\n",
              "<table border=\"1\" class=\"dataframe\">\n",
              "  <thead>\n",
              "    <tr style=\"text-align: right;\">\n",
              "      <th></th>\n",
              "      <th>Rank</th>\n",
              "      <th>Title</th>\n",
              "      <th>Year</th>\n",
              "      <th>Score</th>\n",
              "      <th>Metascore</th>\n",
              "      <th>Genre</th>\n",
              "      <th>Vote</th>\n",
              "      <th>Director</th>\n",
              "      <th>Runtime</th>\n",
              "      <th>Revenue</th>\n",
              "      <th>Description</th>\n",
              "    </tr>\n",
              "  </thead>\n",
              "  <tbody>\n",
              "    <tr>\n",
              "      <th>0</th>\n",
              "      <td>1</td>\n",
              "      <td>The Shawshank Redemption</td>\n",
              "      <td>1994</td>\n",
              "      <td>9.3</td>\n",
              "      <td>80.0</td>\n",
              "      <td>Drama</td>\n",
              "      <td>2011509</td>\n",
              "      <td>Frank Darabont</td>\n",
              "      <td>142</td>\n",
              "      <td>28.34</td>\n",
              "      <td>Two imprisoned men bond over a number of years...</td>\n",
              "    </tr>\n",
              "    <tr>\n",
              "      <th>1</th>\n",
              "      <td>2</td>\n",
              "      <td>The Dark Knight</td>\n",
              "      <td>2008</td>\n",
              "      <td>9.0</td>\n",
              "      <td>84.0</td>\n",
              "      <td>Action, Crime, Drama</td>\n",
              "      <td>1980200</td>\n",
              "      <td>Christopher Nolan</td>\n",
              "      <td>152</td>\n",
              "      <td>534.86</td>\n",
              "      <td>When the menace known as the Joker emerges fro...</td>\n",
              "    </tr>\n",
              "    <tr>\n",
              "      <th>2</th>\n",
              "      <td>3</td>\n",
              "      <td>Inception</td>\n",
              "      <td>2010</td>\n",
              "      <td>8.8</td>\n",
              "      <td>74.0</td>\n",
              "      <td>Action, Adventure, Sci-Fi</td>\n",
              "      <td>1760209</td>\n",
              "      <td>Christopher Nolan</td>\n",
              "      <td>148</td>\n",
              "      <td>292.58</td>\n",
              "      <td>A thief who steals corporate secrets through t...</td>\n",
              "    </tr>\n",
              "    <tr>\n",
              "      <th>3</th>\n",
              "      <td>4</td>\n",
              "      <td>Fight Club</td>\n",
              "      <td>1999</td>\n",
              "      <td>8.8</td>\n",
              "      <td>66.0</td>\n",
              "      <td>Drama</td>\n",
              "      <td>1609459</td>\n",
              "      <td>David Fincher</td>\n",
              "      <td>139</td>\n",
              "      <td>37.03</td>\n",
              "      <td>An insomniac office worker and a devil-may-car...</td>\n",
              "    </tr>\n",
              "    <tr>\n",
              "      <th>4</th>\n",
              "      <td>5</td>\n",
              "      <td>Pulp Fiction</td>\n",
              "      <td>1994</td>\n",
              "      <td>8.9</td>\n",
              "      <td>94.0</td>\n",
              "      <td>Crime, Drama</td>\n",
              "      <td>1570194</td>\n",
              "      <td>Quentin Tarantino</td>\n",
              "      <td>154</td>\n",
              "      <td>107.93</td>\n",
              "      <td>The lives of two mob hitmen, a boxer, a gangst...</td>\n",
              "    </tr>\n",
              "  </tbody>\n",
              "</table>\n",
              "</div>"
            ],
            "text/plain": [
              "   Rank  ...                                        Description\n",
              "0     1  ...  Two imprisoned men bond over a number of years...\n",
              "1     2  ...  When the menace known as the Joker emerges fro...\n",
              "2     3  ...  A thief who steals corporate secrets through t...\n",
              "3     4  ...  An insomniac office worker and a devil-may-car...\n",
              "4     5  ...  The lives of two mob hitmen, a boxer, a gangst...\n",
              "\n",
              "[5 rows x 11 columns]"
            ]
          },
          "metadata": {
            "tags": []
          },
          "execution_count": 66
        }
      ]
    },
    {
      "cell_type": "code",
      "metadata": {
        "id": "WEdV8-RY2Yl7",
        "colab_type": "code",
        "outputId": "e8cd5eb1-c264-4fdd-f3f0-f7937e617d5d",
        "colab": {
          "base_uri": "https://localhost:8080/",
          "height": 221
        }
      },
      "source": [
        "#Knowing the data type\n",
        "fd.dtypes"
      ],
      "execution_count": 67,
      "outputs": [
        {
          "output_type": "execute_result",
          "data": {
            "text/plain": [
              "Rank             int64\n",
              "Title           object\n",
              "Year             int64\n",
              "Score          float64\n",
              "Metascore      float64\n",
              "Genre           object\n",
              "Vote             int64\n",
              "Director        object\n",
              "Runtime          int64\n",
              "Revenue        float64\n",
              "Description     object\n",
              "dtype: object"
            ]
          },
          "metadata": {
            "tags": []
          },
          "execution_count": 67
        }
      ]
    },
    {
      "cell_type": "code",
      "metadata": {
        "id": "yu-LRcScFyvE",
        "colab_type": "code",
        "colab": {}
      },
      "source": [
        "fd.info()"
      ],
      "execution_count": 0,
      "outputs": []
    },
    {
      "cell_type": "code",
      "metadata": {
        "id": "idAeYYqjGl_C",
        "colab_type": "code",
        "outputId": "ed6b7fe0-a79a-4ebb-ae13-f8a827ef4baf",
        "colab": {
          "base_uri": "https://localhost:8080/",
          "height": 221
        }
      },
      "source": [
        "#Finding missing values\n",
        "fd.isna().sum()"
      ],
      "execution_count": 29,
      "outputs": [
        {
          "output_type": "execute_result",
          "data": {
            "text/plain": [
              "Rank              0\n",
              "Title             0\n",
              "Year              0\n",
              "Score             0\n",
              "Metascore      3219\n",
              "Genre             0\n",
              "Vote              0\n",
              "Director          1\n",
              "Runtime           0\n",
              "Revenue        2527\n",
              "Description       0\n",
              "dtype: int64"
            ]
          },
          "metadata": {
            "tags": []
          },
          "execution_count": 29
        }
      ]
    },
    {
      "cell_type": "code",
      "metadata": {
        "id": "Xqbu5xQWLSmL",
        "colab_type": "code",
        "colab": {}
      },
      "source": [
        "#Central tendency values\n",
        "fd.describe()"
      ],
      "execution_count": 0,
      "outputs": []
    },
    {
      "cell_type": "code",
      "metadata": {
        "id": "G0WNOzXxJb99",
        "colab_type": "code",
        "colab": {}
      },
      "source": [
        "#filling the Metascore values with mean value\n",
        "fd['Metascore'].fillna(fd['Metascore'].mean(),\\\n",
        "                       inplace = True)\n"
      ],
      "execution_count": 0,
      "outputs": []
    },
    {
      "cell_type": "code",
      "metadata": {
        "id": "uEmmEzU6T_AU",
        "colab_type": "code",
        "colab": {}
      },
      "source": [
        "#Filling the Revenue value with the mean value\n",
        "fd['Revenue'].fillna(fd['Revenue'].mean(),\\\n",
        "                     inplace = True)"
      ],
      "execution_count": 0,
      "outputs": []
    },
    {
      "cell_type": "code",
      "metadata": {
        "id": "Q7ksMrnXZEav",
        "colab_type": "code",
        "colab": {}
      },
      "source": [
        "#Filling a Director name with max occured\n",
        "fd['Director'].fillna(fd['Director'].value_counts().index[0],inplace=True)"
      ],
      "execution_count": 0,
      "outputs": []
    },
    {
      "cell_type": "code",
      "metadata": {
        "id": "va0N4yboZ-Sd",
        "colab_type": "code",
        "colab": {}
      },
      "source": [
        "#Checking whether the missing are filled\n",
        "fd.isna().sum()"
      ],
      "execution_count": 0,
      "outputs": []
    },
    {
      "cell_type": "code",
      "metadata": {
        "id": "G_JOsyqO2Y1o",
        "colab_type": "code",
        "colab": {}
      },
      "source": [
        "#Plotting the Histogram graph of duration of the movie\n",
        "plt.hist(fd['Runtime'],\n",
        "         color     = 'green',\n",
        "         edgecolor = 'white',\n",
        "         bins      = 25)\n",
        "plt.title('Histogram of Duration')\n",
        "plt.xlabel('Duration(in minutes)')\n",
        "plt.ylabel('No.of movies')\n",
        "plt.show()"
      ],
      "execution_count": 0,
      "outputs": []
    },
    {
      "cell_type": "code",
      "metadata": {
        "id": "NZy_xuFu2Y-y",
        "colab_type": "code",
        "colab": {}
      },
      "source": [
        "plt.scatter(fd['Score'],fd['Revenue'],c='red')\n",
        "plt.show()"
      ],
      "execution_count": 0,
      "outputs": []
    },
    {
      "cell_type": "code",
      "metadata": {
        "id": "k-frgBHJ2ZHl",
        "colab_type": "code",
        "colab": {}
      },
      "source": [
        "plt.bar(fd['Year'],fd['Score'])\n",
        "plt.title('Bar plot of IMDB rankings')\n",
        "plt.xlabel('Year')\n",
        "plt.ylabel('Score')\n",
        "plt.show()\n"
      ],
      "execution_count": 0,
      "outputs": []
    },
    {
      "cell_type": "code",
      "metadata": {
        "id": "7CCIUvxgJFSs",
        "colab_type": "code",
        "colab": {}
      },
      "source": [
        "sns.boxplot(y=fd['Score'])"
      ],
      "execution_count": 0,
      "outputs": []
    },
    {
      "cell_type": "code",
      "metadata": {
        "id": "-3M1_QVRf_jm",
        "colab_type": "code",
        "colab": {}
      },
      "source": [
        "fd['Score'].astype(int)"
      ],
      "execution_count": 0,
      "outputs": []
    },
    {
      "cell_type": "code",
      "metadata": {
        "id": "85EhR00cJFVy",
        "colab_type": "code",
        "colab": {}
      },
      "source": [
        "\n",
        "fd['Score'].replace('Average',5,inplace=True)\n",
        "\n",
        "fd['Score'].replace('Hit',8,inplace=True)\n",
        "fd['Score'].replace(' Super Hit',9,inplace=True)\n"
      ],
      "execution_count": 0,
      "outputs": []
    },
    {
      "cell_type": "code",
      "metadata": {
        "id": "qDzTmppEJFZv",
        "colab_type": "code",
        "colab": {
          "base_uri": "https://localhost:8080/",
          "height": 288
        },
        "outputId": "083bd388-140c-4c41-fc40-741194bf1fbd"
      },
      "source": [
        "fd.Score.value_counts().plot(kind='bar')"
      ],
      "execution_count": 64,
      "outputs": [
        {
          "output_type": "execute_result",
          "data": {
            "text/plain": [
              "<matplotlib.axes._subplots.AxesSubplot at 0x7f44e7494898>"
            ]
          },
          "metadata": {
            "tags": []
          },
          "execution_count": 64
        },
        {
          "output_type": "display_data",
          "data": {
            "image/png": "[encoded data removed]",
            "text/plain": [
              "<Figure size 432x288 with 1 Axes>"
            ]
          },
          "metadata": {
            "tags": []
          }
        }
      ]
    },
    {
      "cell_type": "code",
      "metadata": {
        "id": "t6UGHVXwJFd2",
        "colab_type": "code",
        "colab": {}
      },
      "source": [
        ""
      ],
      "execution_count": 0,
      "outputs": []
    },
    {
      "cell_type": "code",
      "metadata": {
        "id": "tYysUabeJFka",
        "colab_type": "code",
        "colab": {}
      },
      "source": [
        ""
      ],
      "execution_count": 0,
      "outputs": []
    },
    {
      "cell_type": "code",
      "metadata": {
        "id": "WSZYZyKSJFh3",
        "colab_type": "code",
        "colab": {}
      },
      "source": [
        ""
      ],
      "execution_count": 0,
      "outputs": []
    },
    {
      "cell_type": "code",
      "metadata": {
        "id": "ifntSAWzJFCF",
        "colab_type": "code",
        "colab": {}
      },
      "source": [
        ""
      ],
      "execution_count": 0,
      "outputs": []
    }
  ]
}