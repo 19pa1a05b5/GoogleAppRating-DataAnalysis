{
  "nbformat": 4,
  "nbformat_minor": 0,
  "metadata": {
    "colab": {
      "name": "Copy of Copy of Un7titled.ipynb",
      "provenance": [],
      "collapsed_sections": [],
      "include_colab_link": true
    },
    "kernelspec": {
      "name": "python3",
      "display_name": "Python 3"
    }
  },
  "cells": [
    {
      "cell_type": "markdown",
      "metadata": {
        "id": "view-in-github",
        "colab_type": "text"
      },
      "source": [
        "<a href=\"https://colab.research.google.com/github/19pa1a05b5/GoogleAppRating-DataAnalysis/blob/master/Project1.ipynb\" target=\"_parent\"><img src=\"https://colab.research.google.com/assets/colab-badge.svg\" alt=\"Open In Colab\"/></a>"
      ]
    },
    {
      "cell_type": "markdown",
      "metadata": {
        "id": "-89erYcQ0q_R",
        "colab_type": "text"
      },
      "source": [
        "TOPIC: IMDB MOVIES RANKING RANK: HERE THE INTEGER RANK REPRESENTS. THE RANK OF THE MOVIE\n",
        "\n",
        "TITILE: HERE THE OBJECT TITLE REPRESENTS. THE TITLE OF THE MOVIE\n",
        "\n",
        "YEAR: HERE THE INTEGER YEAR REPRESENTS.THE YEAR IN WHICH THE FILM RELEASE\n",
        "\n",
        "SCORE: HERE THE FLOAT SCORE REPRESENTS. THE FILM WISE IMDB SCORE\n",
        "\n",
        "META SCORE: HERE THE META SCORE REPRESENTS. THE FILM WISE IMDB META SCORE\n",
        "\n",
        "GENRE: HERE THE OBJECT REPRESENS DRAMA,CRIME\n",
        "\n",
        "VOTE: HERE THE INTEGER VOTE REPRESENTS. THE HOW MANY NUMBERS VOTED IN THE MOVIE\n",
        "\n",
        "OBJECT: HERE THE OBJECT DIRECTOR REPRESENTS. THE DIRECTOR OF THE MOVIE\n",
        "\n",
        "RUN TIME: HERE THE INTEGER RUN TIME REPRESENTS. THE DURATION OF THE MOVIE\n",
        "\n",
        "REVENUE: HERE THE FLOAT REVENUE REPRESENTS. THE BUDGET OF THE MOVIE\n",
        "\n",
        "DESCRIPTION: HERE THE OBJECT DESCRIPTION REPRESENTS. IT GIVES THE SMALL INFORMATION IN THE MOVIE"
      ]
    },
    {
      "cell_type": "code",
      "metadata": {
        "id": "dengwsJmlPnL",
        "colab_type": "code",
        "colab": {}
      },
      "source": [
        "import numpy as np\n",
        "import pandas as pd\n",
        "import matplotlib.pyplot as plt\n",
        "import seaborn as sns\n",
        "Films_Data = pd.read_csv(\"/content/movies.csv.zip\")\n",
        "fd = Films_Data"
      ],
      "execution_count": 0,
      "outputs": []
    },
    {
      "cell_type": "code",
      "metadata": {
        "id": "Jwu3kFuU0640",
        "colab_type": "code",
        "outputId": "a4714149-cd2e-49e1-9f0a-3f6e1ebfb124",
        "colab": {
          "base_uri": "https://localhost:8080/",
          "height": 272
        }
      },
      "source": [
        "#Inspecting first 5 rows\n",
        "fd.head()"
      ],
      "execution_count": 0,
      "outputs": [
        {
          "output_type": "execute_result",
          "data": {
            "text/html": [
              "<div>\n",
              "<style scoped>\n",
              "    .dataframe tbody tr th:only-of-type {\n",
              "        vertical-align: middle;\n",
              "    }\n",
              "\n",
              "    .dataframe tbody tr th {\n",
              "        vertical-align: top;\n",
              "    }\n",
              "\n",
              "    .dataframe thead th {\n",
              "        text-align: right;\n",
              "    }\n",
              "</style>\n",
              "<table border=\"1\" class=\"dataframe\">\n",
              "  <thead>\n",
              "    <tr style=\"text-align: right;\">\n",
              "      <th></th>\n",
              "      <th>Rank</th>\n",
              "      <th>Title</th>\n",
              "      <th>Year</th>\n",
              "      <th>Score</th>\n",
              "      <th>Metascore</th>\n",
              "      <th>Genre</th>\n",
              "      <th>Vote</th>\n",
              "      <th>Director</th>\n",
              "      <th>Runtime</th>\n",
              "      <th>Revenue</th>\n",
              "      <th>Description</th>\n",
              "    </tr>\n",
              "  </thead>\n",
              "  <tbody>\n",
              "    <tr>\n",
              "      <th>0</th>\n",
              "      <td>1</td>\n",
              "      <td>The Shawshank Redemption</td>\n",
              "      <td>1994</td>\n",
              "      <td>9.3</td>\n",
              "      <td>80.0</td>\n",
              "      <td>Drama</td>\n",
              "      <td>2011509</td>\n",
              "      <td>Frank Darabont</td>\n",
              "      <td>142</td>\n",
              "      <td>28.34</td>\n",
              "      <td>Two imprisoned men bond over a number of years...</td>\n",
              "    </tr>\n",
              "    <tr>\n",
              "      <th>1</th>\n",
              "      <td>2</td>\n",
              "      <td>The Dark Knight</td>\n",
              "      <td>2008</td>\n",
              "      <td>9.0</td>\n",
              "      <td>84.0</td>\n",
              "      <td>Action, Crime, Drama</td>\n",
              "      <td>1980200</td>\n",
              "      <td>Christopher Nolan</td>\n",
              "      <td>152</td>\n",
              "      <td>534.86</td>\n",
              "      <td>When the menace known as the Joker emerges fro...</td>\n",
              "    </tr>\n",
              "    <tr>\n",
              "      <th>2</th>\n",
              "      <td>3</td>\n",
              "      <td>Inception</td>\n",
              "      <td>2010</td>\n",
              "      <td>8.8</td>\n",
              "      <td>74.0</td>\n",
              "      <td>Action, Adventure, Sci-Fi</td>\n",
              "      <td>1760209</td>\n",
              "      <td>Christopher Nolan</td>\n",
              "      <td>148</td>\n",
              "      <td>292.58</td>\n",
              "      <td>A thief who steals corporate secrets through t...</td>\n",
              "    </tr>\n",
              "    <tr>\n",
              "      <th>3</th>\n",
              "      <td>4</td>\n",
              "      <td>Fight Club</td>\n",
              "      <td>1999</td>\n",
              "      <td>8.8</td>\n",
              "      <td>66.0</td>\n",
              "      <td>Drama</td>\n",
              "      <td>1609459</td>\n",
              "      <td>David Fincher</td>\n",
              "      <td>139</td>\n",
              "      <td>37.03</td>\n",
              "      <td>An insomniac office worker and a devil-may-car...</td>\n",
              "    </tr>\n",
              "    <tr>\n",
              "      <th>4</th>\n",
              "      <td>5</td>\n",
              "      <td>Pulp Fiction</td>\n",
              "      <td>1994</td>\n",
              "      <td>8.9</td>\n",
              "      <td>94.0</td>\n",
              "      <td>Crime, Drama</td>\n",
              "      <td>1570194</td>\n",
              "      <td>Quentin Tarantino</td>\n",
              "      <td>154</td>\n",
              "      <td>107.93</td>\n",
              "      <td>The lives of two mob hitmen, a boxer, a gangst...</td>\n",
              "    </tr>\n",
              "  </tbody>\n",
              "</table>\n",
              "</div>"
            ],
            "text/plain": [
              "   Rank  ...                                        Description\n",
              "0     1  ...  Two imprisoned men bond over a number of years...\n",
              "1     2  ...  When the menace known as the Joker emerges fro...\n",
              "2     3  ...  A thief who steals corporate secrets through t...\n",
              "3     4  ...  An insomniac office worker and a devil-may-car...\n",
              "4     5  ...  The lives of two mob hitmen, a boxer, a gangst...\n",
              "\n",
              "[5 rows x 11 columns]"
            ]
          },
          "metadata": {
            "tags": []
          },
          "execution_count": 5
        }
      ]
    },
    {
      "cell_type": "code",
      "metadata": {
        "id": "WEdV8-RY2Yl7",
        "colab_type": "code",
        "outputId": "176c4055-0b5a-48a2-ec58-5658b0cdb225",
        "colab": {
          "base_uri": "https://localhost:8080/",
          "height": 221
        }
      },
      "source": [
        "#Knowing the data type\n",
        "fd.dtypes"
      ],
      "execution_count": 0,
      "outputs": [
        {
          "output_type": "execute_result",
          "data": {
            "text/plain": [
              "Rank             int64\n",
              "Title           object\n",
              "Year             int64\n",
              "Score          float64\n",
              "Metascore      float64\n",
              "Genre           object\n",
              "Vote             int64\n",
              "Director        object\n",
              "Runtime          int64\n",
              "Revenue        float64\n",
              "Description     object\n",
              "dtype: object"
            ]
          },
          "metadata": {
            "tags": []
          },
          "execution_count": 6
        }
      ]
    },
    {
      "cell_type": "code",
      "metadata": {
        "id": "yu-LRcScFyvE",
        "colab_type": "code",
        "outputId": "6aabd921-1b87-4062-ea5e-1a0db8a9aa74",
        "colab": {
          "base_uri": "https://localhost:8080/",
          "height": 289
        }
      },
      "source": [
        "fd.info()"
      ],
      "execution_count": 0,
      "outputs": [
        {
          "output_type": "stream",
          "text": [
            "<class 'pandas.core.frame.DataFrame'>\n",
            "RangeIndex: 10000 entries, 0 to 9999\n",
            "Data columns (total 11 columns):\n",
            "Rank           10000 non-null int64\n",
            "Title          10000 non-null object\n",
            "Year           10000 non-null int64\n",
            "Score          10000 non-null float64\n",
            "Metascore      6781 non-null float64\n",
            "Genre          10000 non-null object\n",
            "Vote           10000 non-null int64\n",
            "Director       9999 non-null object\n",
            "Runtime        10000 non-null int64\n",
            "Revenue        7473 non-null float64\n",
            "Description    10000 non-null object\n",
            "dtypes: float64(3), int64(4), object(4)\n",
            "memory usage: 859.5+ KB\n"
          ],
          "name": "stdout"
        }
      ]
    },
    {
      "cell_type": "code",
      "metadata": {
        "id": "idAeYYqjGl_C",
        "colab_type": "code",
        "outputId": "fc5fad5c-7138-4e21-ed71-7ec0797f987b",
        "colab": {
          "base_uri": "https://localhost:8080/",
          "height": 221
        }
      },
      "source": [
        "#Finding missing values\n",
        "fd.isna().sum()"
      ],
      "execution_count": 0,
      "outputs": [
        {
          "output_type": "execute_result",
          "data": {
            "text/plain": [
              "Rank              0\n",
              "Title             0\n",
              "Year              0\n",
              "Score             0\n",
              "Metascore      3219\n",
              "Genre             0\n",
              "Vote              0\n",
              "Director          1\n",
              "Runtime           0\n",
              "Revenue        2527\n",
              "Description       0\n",
              "dtype: int64"
            ]
          },
          "metadata": {
            "tags": []
          },
          "execution_count": 8
        }
      ]
    },
    {
      "cell_type": "code",
      "metadata": {
        "id": "Xqbu5xQWLSmL",
        "colab_type": "code",
        "outputId": "9bc46e75-6542-49d3-8c13-78edede79e9c",
        "colab": {
          "base_uri": "https://localhost:8080/",
          "height": 297
        }
      },
      "source": [
        "#Central tendency values\n",
        "fd.describe()"
      ],
      "execution_count": 0,
      "outputs": [
        {
          "output_type": "execute_result",
          "data": {
            "text/html": [
              "<div>\n",
              "<style scoped>\n",
              "    .dataframe tbody tr th:only-of-type {\n",
              "        vertical-align: middle;\n",
              "    }\n",
              "\n",
              "    .dataframe tbody tr th {\n",
              "        vertical-align: top;\n",
              "    }\n",
              "\n",
              "    .dataframe thead th {\n",
              "        text-align: right;\n",
              "    }\n",
              "</style>\n",
              "<table border=\"1\" class=\"dataframe\">\n",
              "  <thead>\n",
              "    <tr style=\"text-align: right;\">\n",
              "      <th></th>\n",
              "      <th>Rank</th>\n",
              "      <th>Year</th>\n",
              "      <th>Score</th>\n",
              "      <th>Metascore</th>\n",
              "      <th>Vote</th>\n",
              "      <th>Runtime</th>\n",
              "      <th>Revenue</th>\n",
              "    </tr>\n",
              "  </thead>\n",
              "  <tbody>\n",
              "    <tr>\n",
              "      <th>count</th>\n",
              "      <td>10000.00000</td>\n",
              "      <td>10000.000000</td>\n",
              "      <td>10000.000000</td>\n",
              "      <td>6781.000000</td>\n",
              "      <td>1.000000e+04</td>\n",
              "      <td>10000.000000</td>\n",
              "      <td>7473.000000</td>\n",
              "    </tr>\n",
              "    <tr>\n",
              "      <th>mean</th>\n",
              "      <td>5000.50000</td>\n",
              "      <td>1998.116200</td>\n",
              "      <td>6.627530</td>\n",
              "      <td>56.534140</td>\n",
              "      <td>6.448852e+04</td>\n",
              "      <td>108.696900</td>\n",
              "      <td>36.263402</td>\n",
              "    </tr>\n",
              "    <tr>\n",
              "      <th>std</th>\n",
              "      <td>2886.89568</td>\n",
              "      <td>18.249608</td>\n",
              "      <td>1.041204</td>\n",
              "      <td>17.965689</td>\n",
              "      <td>1.249423e+05</td>\n",
              "      <td>21.659929</td>\n",
              "      <td>60.882025</td>\n",
              "    </tr>\n",
              "    <tr>\n",
              "      <th>min</th>\n",
              "      <td>1.00000</td>\n",
              "      <td>1915.000000</td>\n",
              "      <td>1.300000</td>\n",
              "      <td>10.000000</td>\n",
              "      <td>6.015000e+03</td>\n",
              "      <td>45.000000</td>\n",
              "      <td>0.000000</td>\n",
              "    </tr>\n",
              "    <tr>\n",
              "      <th>25%</th>\n",
              "      <td>2500.75000</td>\n",
              "      <td>1991.000000</td>\n",
              "      <td>6.000000</td>\n",
              "      <td>44.000000</td>\n",
              "      <td>1.014725e+04</td>\n",
              "      <td>94.000000</td>\n",
              "      <td>1.890000</td>\n",
              "    </tr>\n",
              "    <tr>\n",
              "      <th>50%</th>\n",
              "      <td>5000.50000</td>\n",
              "      <td>2004.000000</td>\n",
              "      <td>6.700000</td>\n",
              "      <td>57.000000</td>\n",
              "      <td>2.117250e+04</td>\n",
              "      <td>105.000000</td>\n",
              "      <td>15.090000</td>\n",
              "    </tr>\n",
              "    <tr>\n",
              "      <th>75%</th>\n",
              "      <td>7500.25000</td>\n",
              "      <td>2011.000000</td>\n",
              "      <td>7.400000</td>\n",
              "      <td>70.000000</td>\n",
              "      <td>6.205200e+04</td>\n",
              "      <td>118.000000</td>\n",
              "      <td>43.860000</td>\n",
              "    </tr>\n",
              "    <tr>\n",
              "      <th>max</th>\n",
              "      <td>10000.00000</td>\n",
              "      <td>2018.000000</td>\n",
              "      <td>9.600000</td>\n",
              "      <td>99.000000</td>\n",
              "      <td>2.011509e+06</td>\n",
              "      <td>450.000000</td>\n",
              "      <td>936.660000</td>\n",
              "    </tr>\n",
              "  </tbody>\n",
              "</table>\n",
              "</div>"
            ],
            "text/plain": [
              "              Rank          Year  ...       Runtime      Revenue\n",
              "count  10000.00000  10000.000000  ...  10000.000000  7473.000000\n",
              "mean    5000.50000   1998.116200  ...    108.696900    36.263402\n",
              "std     2886.89568     18.249608  ...     21.659929    60.882025\n",
              "min        1.00000   1915.000000  ...     45.000000     0.000000\n",
              "25%     2500.75000   1991.000000  ...     94.000000     1.890000\n",
              "50%     5000.50000   2004.000000  ...    105.000000    15.090000\n",
              "75%     7500.25000   2011.000000  ...    118.000000    43.860000\n",
              "max    10000.00000   2018.000000  ...    450.000000   936.660000\n",
              "\n",
              "[8 rows x 7 columns]"
            ]
          },
          "metadata": {
            "tags": []
          },
          "execution_count": 9
        }
      ]
    },
    {
      "cell_type": "code",
      "metadata": {
        "id": "G0WNOzXxJb99",
        "colab_type": "code",
        "colab": {}
      },
      "source": [
        "#filling the Metascore values with mean value\n",
        "fd['Metascore'].fillna(fd['Metascore'].mean(),\\\n",
        "                       inplace = True)\n"
      ],
      "execution_count": 0,
      "outputs": []
    },
    {
      "cell_type": "code",
      "metadata": {
        "id": "uEmmEzU6T_AU",
        "colab_type": "code",
        "colab": {}
      },
      "source": [
        "#Filling the Revenue value with the mean value\n",
        "fd['Revenue'].fillna(fd['Revenue'].mean(),\\\n",
        "                     inplace = True)"
      ],
      "execution_count": 0,
      "outputs": []
    },
    {
      "cell_type": "code",
      "metadata": {
        "id": "Q7ksMrnXZEav",
        "colab_type": "code",
        "colab": {}
      },
      "source": [
        "#Filling a Director name with max occured\n",
        "fd['Director'].fillna(fd['Director'].value_counts().index[0],inplace=True)"
      ],
      "execution_count": 0,
      "outputs": []
    },
    {
      "cell_type": "code",
      "metadata": {
        "id": "va0N4yboZ-Sd",
        "colab_type": "code",
        "outputId": "246ac0c6-4633-42e5-977f-46bb67ebe7dd",
        "colab": {
          "base_uri": "https://localhost:8080/",
          "height": 221
        }
      },
      "source": [
        "#Checking whether the missing are filled\n",
        "fd.isna().sum()"
      ],
      "execution_count": 0,
      "outputs": [
        {
          "output_type": "execute_result",
          "data": {
            "text/plain": [
              "Rank           0\n",
              "Title          0\n",
              "Year           0\n",
              "Score          0\n",
              "Metascore      0\n",
              "Genre          0\n",
              "Vote           0\n",
              "Director       0\n",
              "Runtime        0\n",
              "Revenue        0\n",
              "Description    0\n",
              "dtype: int64"
            ]
          },
          "metadata": {
            "tags": []
          },
          "execution_count": 13
        }
      ]
    },
    {
      "cell_type": "code",
      "metadata": {
        "id": "G_JOsyqO2Y1o",
        "colab_type": "code",
        "outputId": "1c30b36e-6fbf-4e84-c533-64400487f414",
        "colab": {
          "base_uri": "https://localhost:8080/",
          "height": 295
        }
      },
      "source": [
        "#Plotting the Histogram graph of duration of the movie\n",
        "plt.hist(fd['Runtime'],\n",
        "         color     = 'green',\n",
        "         edgecolor = 'white',\n",
        "         bins      = 25)\n",
        "plt.title('Histogram of Duration')\n",
        "plt.xlabel('Duration(in minutes)')\n",
        "plt.ylabel('No.of movies')\n",
        "plt.show()"
      ],
      "execution_count": 0,
      "outputs": [
        {
          "output_type": "display_data",
          "data": {
            "image/png": "[encoded data removed]",
            "text/plain": [
              "<Figure size 432x288 with 1 Axes>"
            ]
          },
          "metadata": {
            "tags": []
          }
        }
      ]
    },
    {
      "cell_type": "code",
      "metadata": {
        "id": "NZy_xuFu2Y-y",
        "colab_type": "code",
        "outputId": "cd614bac-fffb-4b17-b4f8-437a0f2d50b5",
        "colab": {
          "base_uri": "https://localhost:8080/",
          "height": 265
        }
      },
      "source": [
        "plt.scatter(fd['Score'],fd['Revenue'],c='red')\n",
        "plt.show()"
      ],
      "execution_count": 0,
      "outputs": [
        {
          "output_type": "display_data",
          "data": {
            "image/png": "[encoded data removed]",
            "text/plain": [
              "<Figure size 432x288 with 1 Axes>"
            ]
          },
          "metadata": {
            "tags": []
          }
        }
      ]
    },
    {
      "cell_type": "code",
      "metadata": {
        "id": "k-frgBHJ2ZHl",
        "colab_type": "code",
        "outputId": "23011065-b905-4b43-b8a6-dae4d980733e",
        "colab": {
          "base_uri": "https://localhost:8080/",
          "height": 295
        }
      },
      "source": [
        "plt.bar(fd['Year'],fd['Score'])\n",
        "plt.title('Bar plot of IMDB rankings')\n",
        "plt.xlabel('Year')\n",
        "plt.ylabel('Score')\n",
        "plt.show()\n"
      ],
      "execution_count": 0,
      "outputs": [
        {
          "output_type": "display_data",
          "data": {
            "image/png": "[encoded data removed]",
            "text/plain": [
              "<Figure size 432x288 with 1 Axes>"
            ]
          },
          "metadata": {
            "tags": []
          }
        }
      ]
    },
    {
      "cell_type": "code",
      "metadata": {
        "id": "7CCIUvxgJFSs",
        "colab_type": "code",
        "outputId": "f2790176-1b26-421d-8a3d-a2c25e0a83f8",
        "colab": {
          "base_uri": "https://localhost:8080/",
          "height": 272
        }
      },
      "source": [
        "sns.boxplot(y=fd['Score'])"
      ],
      "execution_count": 0,
      "outputs": [
        {
          "output_type": "execute_result",
          "data": {
            "text/plain": [
              "<matplotlib.axes._subplots.AxesSubplot at 0x7f193efdddd8>"
            ]
          },
          "metadata": {
            "tags": []
          },
          "execution_count": 17
        },
        {
          "output_type": "display_data",
          "data": {
            "image/png": "[encoded data removed]",
            "text/plain": [
              "<Figure size 432x288 with 1 Axes>"
            ]
          },
          "metadata": {
            "tags": []
          }
        }
      ]
    },
    {
      "cell_type": "code",
      "metadata": {
        "id": "qDzTmppEJFZv",
        "colab_type": "code",
        "outputId": "0fde2d44-0974-4883-cb81-a04de8902fc3",
        "colab": {
          "base_uri": "https://localhost:8080/",
          "height": 288
        }
      },
      "source": [
        "fd.Score.value_counts().plot(kind='bar')"
      ],
      "execution_count": 0,
      "outputs": [
        {
          "output_type": "execute_result",
          "data": {
            "text/plain": [
              "<matplotlib.axes._subplots.AxesSubplot at 0x7f193ec5a358>"
            ]
          },
          "metadata": {
            "tags": []
          },
          "execution_count": 20
        },
        {
          "output_type": "display_data",
          "data": {
            "image/png": "[encoded data removed]",
            "text/plain": [
              "<Figure size 432x288 with 1 Axes>"
            ]
          },
          "metadata": {
            "tags": []
          }
        }
      ]
    },
    {
      "cell_type": "code",
      "metadata": {
        "id": "t6UGHVXwJFd2",
        "colab_type": "code",
        "colab": {}
      },
      "source": [
        ""
      ],
      "execution_count": 0,
      "outputs": []
    },
    {
      "cell_type": "code",
      "metadata": {
        "id": "tYysUabeJFka",
        "colab_type": "code",
        "colab": {}
      },
      "source": [
        ""
      ],
      "execution_count": 0,
      "outputs": []
    },
    {
      "cell_type": "code",
      "metadata": {
        "id": "WSZYZyKSJFh3",
        "colab_type": "code",
        "colab": {}
      },
      "source": [
        ""
      ],
      "execution_count": 0,
      "outputs": []
    },
    {
      "cell_type": "code",
      "metadata": {
        "id": "ifntSAWzJFCF",
        "colab_type": "code",
        "colab": {}
      },
      "source": [
        ""
      ],
      "execution_count": 0,
      "outputs": []
    }
  ]
}