{
  "nbformat": 4,
  "nbformat_minor": 0,
  "metadata": {
    "colab": {
      "name": "Untitled7.ipynb",
      "provenance": [],
      "include_colab_link": true
    },
    "kernelspec": {
      "name": "python3",
      "display_name": "Python 3"
    }
  },
  "cells": [
    {
      "cell_type": "markdown",
      "metadata": {
        "id": "view-in-github",
        "colab_type": "text"
      },
      "source": [
        "<a href=\"https://colab.research.google.com/github/19pa1a05b5/GoogleAppRating-DataAnalysis/blob/master/project.ipynb\" target=\"_parent\"><img src=\"https://colab.research.google.com/assets/colab-badge.svg\" alt=\"Open In Colab\"/></a>"
      ]
    },
    {
      "cell_type": "markdown",
      "metadata": {
        "id": "d_BuDIX6tCxG",
        "colab_type": "text"
      },
      "source": [
        ""
      ]
    },
    {
      "cell_type": "code",
      "metadata": {
        "id": "dengwsJmlPnL",
        "colab_type": "code",
        "colab": {}
      },
      "source": [
        "import numpy as np\n",
        "import pandas as pd\n",
        "import matplotlib.pyplot as plt\n",
        "import seaborn as sb\n",
        "Films_Data = pd.read_csv(\"/content/movies.csv.zip\")\n",
        "fd = Films_Data"
      ],
      "execution_count": 0,
      "outputs": []
    },
    {
      "cell_type": "code",
      "metadata": {
        "id": "RHCnNDPjt4HJ",
        "colab_type": "code",
        "colab": {
          "base_uri": "https://localhost:8080/",
          "height": 272
        },
        "outputId": "384cd861-6dcf-49e4-c7fe-9e5977d95ccf"
      },
      "source": [
        "#Inspecting the first 5 rows\n",
        "fd.head()"
      ],
      "execution_count": 21,
      "outputs": [
        {
          "output_type": "execute_result",
          "data": {
            "text/html": [
              "<div>\n",
              "<style scoped>\n",
              "    .dataframe tbody tr th:only-of-type {\n",
              "        vertical-align: middle;\n",
              "    }\n",
              "\n",
              "    .dataframe tbody tr th {\n",
              "        vertical-align: top;\n",
              "    }\n",
              "\n",
              "    .dataframe thead th {\n",
              "        text-align: right;\n",
              "    }\n",
              "</style>\n",
              "<table border=\"1\" class=\"dataframe\">\n",
              "  <thead>\n",
              "    <tr style=\"text-align: right;\">\n",
              "      <th></th>\n",
              "      <th>Rank</th>\n",
              "      <th>Title</th>\n",
              "      <th>Year</th>\n",
              "      <th>Score</th>\n",
              "      <th>Metascore</th>\n",
              "      <th>Genre</th>\n",
              "      <th>Vote</th>\n",
              "      <th>Director</th>\n",
              "      <th>Runtime</th>\n",
              "      <th>Revenue</th>\n",
              "      <th>Description</th>\n",
              "    </tr>\n",
              "  </thead>\n",
              "  <tbody>\n",
              "    <tr>\n",
              "      <th>0</th>\n",
              "      <td>1</td>\n",
              "      <td>The Shawshank Redemption</td>\n",
              "      <td>1994</td>\n",
              "      <td>9.3</td>\n",
              "      <td>80.0</td>\n",
              "      <td>Drama</td>\n",
              "      <td>2011509</td>\n",
              "      <td>Frank Darabont</td>\n",
              "      <td>142</td>\n",
              "      <td>28.34</td>\n",
              "      <td>Two imprisoned men bond over a number of years...</td>\n",
              "    </tr>\n",
              "    <tr>\n",
              "      <th>1</th>\n",
              "      <td>2</td>\n",
              "      <td>The Dark Knight</td>\n",
              "      <td>2008</td>\n",
              "      <td>9.0</td>\n",
              "      <td>84.0</td>\n",
              "      <td>Action, Crime, Drama</td>\n",
              "      <td>1980200</td>\n",
              "      <td>Christopher Nolan</td>\n",
              "      <td>152</td>\n",
              "      <td>534.86</td>\n",
              "      <td>When the menace known as the Joker emerges fro...</td>\n",
              "    </tr>\n",
              "    <tr>\n",
              "      <th>2</th>\n",
              "      <td>3</td>\n",
              "      <td>Inception</td>\n",
              "      <td>2010</td>\n",
              "      <td>8.8</td>\n",
              "      <td>74.0</td>\n",
              "      <td>Action, Adventure, Sci-Fi</td>\n",
              "      <td>1760209</td>\n",
              "      <td>Christopher Nolan</td>\n",
              "      <td>148</td>\n",
              "      <td>292.58</td>\n",
              "      <td>A thief who steals corporate secrets through t...</td>\n",
              "    </tr>\n",
              "    <tr>\n",
              "      <th>3</th>\n",
              "      <td>4</td>\n",
              "      <td>Fight Club</td>\n",
              "      <td>1999</td>\n",
              "      <td>8.8</td>\n",
              "      <td>66.0</td>\n",
              "      <td>Drama</td>\n",
              "      <td>1609459</td>\n",
              "      <td>David Fincher</td>\n",
              "      <td>139</td>\n",
              "      <td>37.03</td>\n",
              "      <td>An insomniac office worker and a devil-may-car...</td>\n",
              "    </tr>\n",
              "    <tr>\n",
              "      <th>4</th>\n",
              "      <td>5</td>\n",
              "      <td>Pulp Fiction</td>\n",
              "      <td>1994</td>\n",
              "      <td>8.9</td>\n",
              "      <td>94.0</td>\n",
              "      <td>Crime, Drama</td>\n",
              "      <td>1570194</td>\n",
              "      <td>Quentin Tarantino</td>\n",
              "      <td>154</td>\n",
              "      <td>107.93</td>\n",
              "      <td>The lives of two mob hitmen, a boxer, a gangst...</td>\n",
              "    </tr>\n",
              "  </tbody>\n",
              "</table>\n",
              "</div>"
            ],
            "text/plain": [
              "   Rank  ...                                        Description\n",
              "0     1  ...  Two imprisoned men bond over a number of years...\n",
              "1     2  ...  When the menace known as the Joker emerges fro...\n",
              "2     3  ...  A thief who steals corporate secrets through t...\n",
              "3     4  ...  An insomniac office worker and a devil-may-car...\n",
              "4     5  ...  The lives of two mob hitmen, a boxer, a gangst...\n",
              "\n",
              "[5 rows x 11 columns]"
            ]
          },
          "metadata": {
            "tags": []
          },
          "execution_count": 21
        }
      ]
    },
    {
      "cell_type": "code",
      "metadata": {
        "id": "WEdV8-RY2Yl7",
        "colab_type": "code",
        "outputId": "977f4617-331c-46a8-aa07-d525a75df540",
        "colab": {
          "base_uri": "https://localhost:8080/",
          "height": 221
        }
      },
      "source": [
        "#Datatypes\n",
        "fd.dtypes"
      ],
      "execution_count": 22,
      "outputs": [
        {
          "output_type": "execute_result",
          "data": {
            "text/plain": [
              "Rank             int64\n",
              "Title           object\n",
              "Year             int64\n",
              "Score          float64\n",
              "Metascore      float64\n",
              "Genre           object\n",
              "Vote             int64\n",
              "Director        object\n",
              "Runtime          int64\n",
              "Revenue        float64\n",
              "Description     object\n",
              "dtype: object"
            ]
          },
          "metadata": {
            "tags": []
          },
          "execution_count": 22
        }
      ]
    },
    {
      "cell_type": "code",
      "metadata": {
        "id": "Xqbu5xQWLSmL",
        "colab_type": "code",
        "colab": {
          "base_uri": "https://localhost:8080/",
          "height": 297
        },
        "outputId": "c433e0dc-d769-4ed6-8557-a1b51d4c5d65"
      },
      "source": [
        "#Central tendency values\n",
        "fd.describe()"
      ],
      "execution_count": 23,
      "outputs": [
        {
          "output_type": "execute_result",
          "data": {
            "text/html": [
              "<div>\n",
              "<style scoped>\n",
              "    .dataframe tbody tr th:only-of-type {\n",
              "        vertical-align: middle;\n",
              "    }\n",
              "\n",
              "    .dataframe tbody tr th {\n",
              "        vertical-align: top;\n",
              "    }\n",
              "\n",
              "    .dataframe thead th {\n",
              "        text-align: right;\n",
              "    }\n",
              "</style>\n",
              "<table border=\"1\" class=\"dataframe\">\n",
              "  <thead>\n",
              "    <tr style=\"text-align: right;\">\n",
              "      <th></th>\n",
              "      <th>Rank</th>\n",
              "      <th>Year</th>\n",
              "      <th>Score</th>\n",
              "      <th>Metascore</th>\n",
              "      <th>Vote</th>\n",
              "      <th>Runtime</th>\n",
              "      <th>Revenue</th>\n",
              "    </tr>\n",
              "  </thead>\n",
              "  <tbody>\n",
              "    <tr>\n",
              "      <th>count</th>\n",
              "      <td>10000.00000</td>\n",
              "      <td>10000.000000</td>\n",
              "      <td>10000.000000</td>\n",
              "      <td>6781.000000</td>\n",
              "      <td>1.000000e+04</td>\n",
              "      <td>10000.000000</td>\n",
              "      <td>7473.000000</td>\n",
              "    </tr>\n",
              "    <tr>\n",
              "      <th>mean</th>\n",
              "      <td>5000.50000</td>\n",
              "      <td>1998.116200</td>\n",
              "      <td>6.627530</td>\n",
              "      <td>56.534140</td>\n",
              "      <td>6.448852e+04</td>\n",
              "      <td>108.696900</td>\n",
              "      <td>36.263402</td>\n",
              "    </tr>\n",
              "    <tr>\n",
              "      <th>std</th>\n",
              "      <td>2886.89568</td>\n",
              "      <td>18.249608</td>\n",
              "      <td>1.041204</td>\n",
              "      <td>17.965689</td>\n",
              "      <td>1.249423e+05</td>\n",
              "      <td>21.659929</td>\n",
              "      <td>60.882025</td>\n",
              "    </tr>\n",
              "    <tr>\n",
              "      <th>min</th>\n",
              "      <td>1.00000</td>\n",
              "      <td>1915.000000</td>\n",
              "      <td>1.300000</td>\n",
              "      <td>10.000000</td>\n",
              "      <td>6.015000e+03</td>\n",
              "      <td>45.000000</td>\n",
              "      <td>0.000000</td>\n",
              "    </tr>\n",
              "    <tr>\n",
              "      <th>25%</th>\n",
              "      <td>2500.75000</td>\n",
              "      <td>1991.000000</td>\n",
              "      <td>6.000000</td>\n",
              "      <td>44.000000</td>\n",
              "      <td>1.014725e+04</td>\n",
              "      <td>94.000000</td>\n",
              "      <td>1.890000</td>\n",
              "    </tr>\n",
              "    <tr>\n",
              "      <th>50%</th>\n",
              "      <td>5000.50000</td>\n",
              "      <td>2004.000000</td>\n",
              "      <td>6.700000</td>\n",
              "      <td>57.000000</td>\n",
              "      <td>2.117250e+04</td>\n",
              "      <td>105.000000</td>\n",
              "      <td>15.090000</td>\n",
              "    </tr>\n",
              "    <tr>\n",
              "      <th>75%</th>\n",
              "      <td>7500.25000</td>\n",
              "      <td>2011.000000</td>\n",
              "      <td>7.400000</td>\n",
              "      <td>70.000000</td>\n",
              "      <td>6.205200e+04</td>\n",
              "      <td>118.000000</td>\n",
              "      <td>43.860000</td>\n",
              "    </tr>\n",
              "    <tr>\n",
              "      <th>max</th>\n",
              "      <td>10000.00000</td>\n",
              "      <td>2018.000000</td>\n",
              "      <td>9.600000</td>\n",
              "      <td>99.000000</td>\n",
              "      <td>2.011509e+06</td>\n",
              "      <td>450.000000</td>\n",
              "      <td>936.660000</td>\n",
              "    </tr>\n",
              "  </tbody>\n",
              "</table>\n",
              "</div>"
            ],
            "text/plain": [
              "              Rank          Year  ...       Runtime      Revenue\n",
              "count  10000.00000  10000.000000  ...  10000.000000  7473.000000\n",
              "mean    5000.50000   1998.116200  ...    108.696900    36.263402\n",
              "std     2886.89568     18.249608  ...     21.659929    60.882025\n",
              "min        1.00000   1915.000000  ...     45.000000     0.000000\n",
              "25%     2500.75000   1991.000000  ...     94.000000     1.890000\n",
              "50%     5000.50000   2004.000000  ...    105.000000    15.090000\n",
              "75%     7500.25000   2011.000000  ...    118.000000    43.860000\n",
              "max    10000.00000   2018.000000  ...    450.000000   936.660000\n",
              "\n",
              "[8 rows x 7 columns]"
            ]
          },
          "metadata": {
            "tags": []
          },
          "execution_count": 23
        }
      ]
    },
    {
      "cell_type": "code",
      "metadata": {
        "id": "hHhxX8betKBT",
        "colab_type": "code",
        "colab": {
          "base_uri": "https://localhost:8080/",
          "height": 289
        },
        "outputId": "5d5179f0-6b36-427c-cd0d-a09e45d8935d"
      },
      "source": [
        "fd.info()"
      ],
      "execution_count": 24,
      "outputs": [
        {
          "output_type": "stream",
          "text": [
            "<class 'pandas.core.frame.DataFrame'>\n",
            "RangeIndex: 10000 entries, 0 to 9999\n",
            "Data columns (total 11 columns):\n",
            "Rank           10000 non-null int64\n",
            "Title          10000 non-null object\n",
            "Year           10000 non-null int64\n",
            "Score          10000 non-null float64\n",
            "Metascore      6781 non-null float64\n",
            "Genre          10000 non-null object\n",
            "Vote           10000 non-null int64\n",
            "Director       9999 non-null object\n",
            "Runtime        10000 non-null int64\n",
            "Revenue        7473 non-null float64\n",
            "Description    10000 non-null object\n",
            "dtypes: float64(3), int64(4), object(4)\n",
            "memory usage: 859.5+ KB\n"
          ],
          "name": "stdout"
        }
      ]
    },
    {
      "cell_type": "code",
      "metadata": {
        "id": "VH5mZlsHtdxU",
        "colab_type": "code",
        "colab": {
          "base_uri": "https://localhost:8080/",
          "height": 221
        },
        "outputId": "473c08dd-767d-4cc1-f8a8-317865b8f697"
      },
      "source": [
        "#Finding No.of missing values\n",
        "fd.isna().sum()"
      ],
      "execution_count": 25,
      "outputs": [
        {
          "output_type": "execute_result",
          "data": {
            "text/plain": [
              "Rank              0\n",
              "Title             0\n",
              "Year              0\n",
              "Score             0\n",
              "Metascore      3219\n",
              "Genre             0\n",
              "Vote              0\n",
              "Director          1\n",
              "Runtime           0\n",
              "Revenue        2527\n",
              "Description       0\n",
              "dtype: int64"
            ]
          },
          "metadata": {
            "tags": []
          },
          "execution_count": 25
        }
      ]
    },
    {
      "cell_type": "code",
      "metadata": {
        "id": "IYw2LvXntrq1",
        "colab_type": "code",
        "colab": {}
      },
      "source": [
        "#Filling the missing values of Metascore with mean value\n",
        "fd['Metascore'].fillna(fd['Metascore'].mean(),inplace=True)\n"
      ],
      "execution_count": 0,
      "outputs": []
    },
    {
      "cell_type": "code",
      "metadata": {
        "id": "Axe5OySmu_xv",
        "colab_type": "code",
        "colab": {}
      },
      "source": [
        "#Filling the missing values of Revenue with mean value\n",
        "fd['Revenue'].fillna(fd['Revenue'].mean(),inplace=True)"
      ],
      "execution_count": 0,
      "outputs": []
    },
    {
      "cell_type": "code",
      "metadata": {
        "id": "b3HTwfAIu3ex",
        "colab_type": "code",
        "colab": {
          "base_uri": "https://localhost:8080/",
          "height": 221
        },
        "outputId": "8fb9eb67-bd21-438d-c4f4-b9212815134a"
      },
      "source": [
        "#Checking whether the values are filled\n",
        "fd.isna().sum()"
      ],
      "execution_count": 28,
      "outputs": [
        {
          "output_type": "execute_result",
          "data": {
            "text/plain": [
              "Rank           0\n",
              "Title          0\n",
              "Year           0\n",
              "Score          0\n",
              "Metascore      0\n",
              "Genre          0\n",
              "Vote           0\n",
              "Director       1\n",
              "Runtime        0\n",
              "Revenue        0\n",
              "Description    0\n",
              "dtype: int64"
            ]
          },
          "metadata": {
            "tags": []
          },
          "execution_count": 28
        }
      ]
    },
    {
      "cell_type": "code",
      "metadata": {
        "id": "G_JOsyqO2Y1o",
        "colab_type": "code",
        "colab": {
          "base_uri": "https://localhost:8080/",
          "height": 295
        },
        "outputId": "ced53b9b-1c3c-480e-be71-c56f70d9d43a"
      },
      "source": [
        "#Plotting the No.of movies according to duration wth Histogram\n",
        "plt.hist(fd['Runtime'],\n",
        "         color     = 'green',\n",
        "         edgecolor = 'white',\n",
        "         bins      = 10)\n",
        "plt.title('Histogram of Duration')\n",
        "plt.xlabel('Duration')\n",
        "plt.ylabel('No.of movies')\n",
        "plt.show()"
      ],
      "execution_count": 29,
      "outputs": [
        {
          "output_type": "display_data",
          "data": {
            "image/png": "[encoded data removed]",
            "text/plain": [
              "<Figure size 432x288 with 1 Axes>"
            ]
          },
          "metadata": {
            "tags": []
          }
        }
      ]
    },
    {
      "cell_type": "code",
      "metadata": {
        "id": "NZy_xuFu2Y-y",
        "colab_type": "code",
        "colab": {
          "base_uri": "https://localhost:8080/",
          "height": 295
        },
        "outputId": "d9b6055d-417d-406c-b9ff-47cbc6458489"
      },
      "source": [
        "#Plotting the scatter plot Score vs Revenue\n",
        "plt.scatter(fd['Score'],fd['Revenue'],c='red')\n",
        "plt.xlabel('Score')\n",
        "plt.ylabel('Revenue')\n",
        "plt.title('Score vs Revenue')\n",
        "plt.show()"
      ],
      "execution_count": 35,
      "outputs": [
        {
          "output_type": "display_data",
          "data": {
            "image/png": "[encoded data removed]",
            "text/plain": [
              "<Figure size 432x288 with 1 Axes>"
            ]
          },
          "metadata": {
            "tags": []
          }
        }
      ]
    },
    {
      "cell_type": "code",
      "metadata": {
        "id": "k-frgBHJ2ZHl",
        "colab_type": "code",
        "colab": {
          "base_uri": "https://localhost:8080/",
          "height": 295
        },
        "outputId": "3d5c4868-4f11-460c-80ce-0c7e48b59808"
      },
      "source": [
        "#PLotting the graph\n",
        "plt.bar(fd['Rank'],fd['Revenue'],color=['red'])\n",
        "plt.title('Bar plot of IMBD rank vs Revenue')\n",
        "plt.xlabel('Rank')\n",
        "plt.ylabel('Revenue')\n",
        "plt.show()\n"
      ],
      "execution_count": 34,
      "outputs": [
        {
          "output_type": "display_data",
          "data": {
            "image/png": "[encoded data removed]",
            "text/plain": [
              "<Figure size 432x288 with 1 Axes>"
            ]
          },
          "metadata": {
            "tags": []
          }
        }
      ]
    }
  ]
}